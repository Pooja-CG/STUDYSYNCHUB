{
  "cells": [
    {
      "cell_type": "markdown",
      "metadata": {
        "id": "view-in-github",
        "colab_type": "text"
      },
      "source": [
        "<a href=\"https://colab.research.google.com/github/Pooja-CG/STUDYSYNCHUB/blob/main/mySQLconnection.ipynb\" target=\"_parent\"><img src=\"https://colab.research.google.com/assets/colab-badge.svg\" alt=\"Open In Colab\"/></a>"
      ]
    },
    {
      "cell_type": "code",
      "execution_count": null,
      "id": "1441976c",
      "metadata": {
        "id": "1441976c",
        "outputId": "d1c81010-9d9c-49bb-9212-a0a8cff5c788"
      },
      "outputs": [
        {
          "name": "stdout",
          "output_type": "stream",
          "text": [
            "('customer',)\n"
          ]
        }
      ],
      "source": [
        "# Install mysql-connector-python using conda\n",
        "#conda install -c anaconda mysql-connector-python\n",
        "\n",
        "# Import the necessary module\n",
        "import mysql.connector\n",
        "\n",
        "# Establish a connection to the MySQL database\n",
        "mydb = mysql.connector.connect(\n",
        "    host='localhost',\n",
        "    user='root',  # Removed '@localhost' from the username\n",
        "    password='Joshva@#12',\n",
        "    database='tutorial',\n",
        "    use_pure=True  # True instead of TRUE\n",
        ")\n",
        "\n",
        "# Create a cursor object\n",
        "mycursor = mydb.cursor()\n",
        "\n",
        "# Execute SQL query to create the table\n",
        "mycursor.execute('CREATE TABLE IF NOT EXISTS CUSTOMER (name VARCHAR(25))')\n",
        "\n",
        "# Execute SQL query to show tables\n",
        "mycursor.execute('SHOW TABLES')\n",
        "\n",
        "# Fetch and print the list of tables\n",
        "for x in mycursor:\n",
        "    print(x)\n",
        "\n",
        "# Close the cursor and connection\n",
        "mycursor.close()\n",
        "mydb.close()\n"
      ]
    },
    {
      "cell_type": "code",
      "execution_count": null,
      "id": "2a6f6446",
      "metadata": {
        "id": "2a6f6446",
        "outputId": "508249f1-c80e-4378-ba71-b626949f0371"
      },
      "outputs": [
        {
          "name": "stdout",
          "output_type": "stream",
          "text": [
            "Requirement already satisfied: pandas in c:\\users\\sherl\\appdata\\local\\anaconda3\\lib\\site-packages (2.0.3)\n",
            "Requirement already satisfied: mysql-connector-python in c:\\users\\sherl\\appdata\\local\\anaconda3\\lib\\site-packages (8.3.0)\n",
            "Requirement already satisfied: python-dateutil>=2.8.2 in c:\\users\\sherl\\appdata\\local\\anaconda3\\lib\\site-packages (from pandas) (2.8.2)\n",
            "Requirement already satisfied: pytz>=2020.1 in c:\\users\\sherl\\appdata\\local\\anaconda3\\lib\\site-packages (from pandas) (2023.3.post1)\n",
            "Requirement already satisfied: tzdata>=2022.1 in c:\\users\\sherl\\appdata\\local\\anaconda3\\lib\\site-packages (from pandas) (2023.3)\n",
            "Requirement already satisfied: numpy>=1.21.0 in c:\\users\\sherl\\appdata\\local\\anaconda3\\lib\\site-packages (from pandas) (1.24.3)\n",
            "Requirement already satisfied: six>=1.5 in c:\\users\\sherl\\appdata\\local\\anaconda3\\lib\\site-packages (from python-dateutil>=2.8.2->pandas) (1.16.0)\n",
            "Note: you may need to restart the kernel to use updated packages.\n"
          ]
        }
      ],
      "source": [
        "pip install pandas mysql-connector-python"
      ]
    },
    {
      "cell_type": "code",
      "execution_count": null,
      "id": "3551ec88",
      "metadata": {
        "id": "3551ec88",
        "outputId": "9a22a0c7-136f-4e60-bebf-0512c41ae7d1"
      },
      "outputs": [
        {
          "name": "stdout",
          "output_type": "stream",
          "text": [
            "Data has been successfully inserted into MySQL database.\n"
          ]
        }
      ],
      "source": [
        "import pandas as pd\n",
        "import mysql.connector\n",
        "\n",
        "# Read Excel file into DataFrame\n",
        "excel_file = \"D:/DataSets/datas.xlsx\"  # Replace with the path to your Excel file\n",
        "df = pd.read_excel(excel_file)\n",
        "\n",
        "# Connect to MySQL database\n",
        "db_connection = mysql.connector.connect(\n",
        "    host=\"localhost\",\n",
        "    user=\"root\",\n",
        "    password=\"Joshva@#12\",\n",
        "    database=\"sherly\"\n",
        ")\n",
        "\n",
        "# Create MySQL table to store data\n",
        "cursor = db_connection.cursor()\n",
        "\n",
        "# Define table schema based on DataFrame columns\n",
        "create_table_query = \"\"\"\n",
        "CREATE TABLE IF NOT EXISTS data (\n",
        "    id INT AUTO_INCREMENT PRIMARY KEY,\n",
        "    Emails VARCHAR(255),\n",
        "    Age INT,\n",
        "    Profession VARCHAR(255)\n",
        ");\n",
        "\"\"\"\n",
        "\n",
        "cursor.execute(create_table_query)\n",
        "db_connection.commit()\n",
        "\n",
        "# Insert data into MySQL table\n",
        "for index, row in df.iterrows():\n",
        "    insert_query = \"\"\"\n",
        "    INSERT INTO data (Emails, Age, Profession)\n",
        "    VALUES (%s, %s, %s);\n",
        "    \"\"\"\n",
        "    cursor.execute(insert_query, (row['Emails'], row['Age'], row['Profession']))\n",
        "\n",
        "db_connection.commit()\n",
        "\n",
        "# Close database connection\n",
        "cursor.close()\n",
        "db_connection.close()\n",
        "\n",
        "print(\"Data has been successfully inserted into MySQL database.\")\n"
      ]
    },
    {
      "cell_type": "code",
      "execution_count": null,
      "id": "f5c9297d",
      "metadata": {
        "id": "f5c9297d",
        "outputId": "da534eff-c400-46bd-fd4a-a9823adc6528"
      },
      "outputs": [
        {
          "name": "stdout",
          "output_type": "stream",
          "text": [
            "                            Emails  Age              Profession\n",
            "0        singhnikita8084@gmail.com   23                 Student\n",
            "1             rallapalli@gmail.com   21                Graduate\n",
            "2               14kkunal@gmail.com   37                 Student\n",
            "3     96928abhayranjan53@gmail.com   35                Graduate\n",
            "4         aanshikagarg06@gmail.com   29              IT manager\n",
            "...                            ...  ...                     ...\n",
            "2244           bnsahoo14@gmail.com   26          Database admin\n",
            "2245          jobsinflux@gmail.com   37     Solutions Architect\n",
            "2246        yashaskirthi@gmail.com   39    Data vault Architect\n",
            "2247       navyashetty05@gmail.com   31  Database administrator\n",
            "2248          harishramk@gmail.com   38                Graduate\n",
            "\n",
            "[2249 rows x 3 columns]\n"
          ]
        }
      ],
      "source": [
        "import pandas as pd\n",
        "import mysql.connector\n",
        "\n",
        "# Connect to MySQL database\n",
        "db_connection = mysql.connector.connect(\n",
        "    host=\"localhost\",\n",
        "    user=\"root\",\n",
        "    password=\"Joshva@#12\",\n",
        "    database=\"sherly\"\n",
        ")\n",
        "\n",
        "# Define columns to display\n",
        "columns_to_display = ['Emails', 'Age', 'Profession']\n",
        "\n",
        "# Create MySQL cursor\n",
        "cursor = db_connection.cursor()\n",
        "\n",
        "# Define query to select specific columns from the table\n",
        "select_query = \"SELECT {} FROM data\".format(', '.join(columns_to_display))\n",
        "\n",
        "# Execute the query\n",
        "cursor.execute(select_query)\n",
        "\n",
        "# Fetch all rows\n",
        "rows = cursor.fetchall()\n",
        "\n",
        "# Close cursor and connection\n",
        "cursor.close()\n",
        "db_connection.close()\n",
        "\n",
        "# Create DataFrame from fetched rows\n",
        "df = pd.DataFrame(rows, columns=columns_to_display)\n",
        "\n",
        "# Display DataFrame\n",
        "print(df)\n"
      ]
    },
    {
      "cell_type": "code",
      "execution_count": null,
      "id": "b2566051",
      "metadata": {
        "id": "b2566051",
        "outputId": "936d3f95-a394-4ac9-fcc7-2b3e4751137d"
      },
      "outputs": [
        {
          "name": "stdout",
          "output_type": "stream",
          "text": [
            "                         Emails  Age                 Profession\n",
            "0     singhnikita8084@gmail.com   23                    Student\n",
            "1          rallapalli@gmail.com   21                   Graduate\n",
            "2            14kkunal@gmail.com   37                    Student\n",
            "3  96928abhayranjan53@gmail.com   35                   Graduate\n",
            "4      aanshikagarg06@gmail.com   29                 IT manager\n",
            "5    aashishsingh9368@gmail.com   26               Data Analyst\n",
            "6                 abc@gmail.com   32           Database Analyst\n",
            "7       abhayranjan53@gmail.com   21  Machine Learning Engineer\n",
            "8           abhi80646@gmail.com   22           Database Analyst\n",
            "9   abinayakarthik001@gmail.com   37                IT director\n"
          ]
        }
      ],
      "source": [
        "import pandas as pd\n",
        "import mysql.connector\n",
        "\n",
        "# Connect to MySQL database\n",
        "db_connection = mysql.connector.connect(\n",
        "    host=\"localhost\",\n",
        "    user=\"root\",\n",
        "    password=\"Joshva@#12\",\n",
        "    database=\"sherly\"\n",
        ")\n",
        "\n",
        "# Define columns to display\n",
        "columns_to_display = ['Emails', 'Age', 'Profession']\n",
        "\n",
        "# Create MySQL cursor\n",
        "cursor = db_connection.cursor()\n",
        "\n",
        "# Define query to select specific columns from the table\n",
        "select_query = \"SELECT {} FROM data\".format(', '.join(columns_to_display))\n",
        "\n",
        "# Execute the query\n",
        "cursor.execute(select_query)\n",
        "\n",
        "# Fetch all rows\n",
        "rows = cursor.fetchall()\n",
        "\n",
        "# Close cursor and connection\n",
        "cursor.close()\n",
        "db_connection.close()\n",
        "\n",
        "# Create DataFrame from fetched rows\n",
        "df = pd.DataFrame(rows, columns=columns_to_display)\n",
        "\n",
        "# Display DataFrame\n",
        "print(df.head(10))  # Display only the first 10 rows\n"
      ]
    },
    {
      "cell_type": "code",
      "execution_count": null,
      "id": "eb1a5abb",
      "metadata": {
        "id": "eb1a5abb"
      },
      "outputs": [],
      "source": []
    }
  ],
  "metadata": {
    "kernelspec": {
      "display_name": "Python 3 (ipykernel)",
      "language": "python",
      "name": "python3"
    },
    "language_info": {
      "codemirror_mode": {
        "name": "ipython",
        "version": 3
      },
      "file_extension": ".py",
      "mimetype": "text/x-python",
      "name": "python",
      "nbconvert_exporter": "python",
      "pygments_lexer": "ipython3",
      "version": "3.11.5"
    },
    "colab": {
      "provenance": [],
      "include_colab_link": true
    }
  },
  "nbformat": 4,
  "nbformat_minor": 5
}